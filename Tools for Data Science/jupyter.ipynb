{
 "cells": [
  {
   "attachments": {},
   "cell_type": "markdown",
   "metadata": {},
   "source": [
    "#   Jupyter Notebook"
   ]
  },
  {
   "attachments": {},
   "cell_type": "markdown",
   "metadata": {},
   "source": [
    "-   Jupyter Notebook is a tool for recording  Data Science  experiments \n",
    "-   It allows a Data Scientist to combine text and  code block in a single file\n",
    "-   It generates  plots  and tables within the file \n",
    "-   Notebooks can be  exported  as pdf  and html files "
   ]
  },
  {
   "cell_type": "code",
   "execution_count": 1,
   "metadata": {},
   "outputs": [
    {
     "name": "stdout",
     "output_type": "stream",
     "text": [
      "Hello World\n"
     ]
    }
   ],
   "source": [
    "print(\"Hello World\")"
   ]
  },
  {
   "attachments": {},
   "cell_type": "markdown",
   "metadata": {},
   "source": [
    "<b>Architecture</b>\n",
    "\n",
    "-    Jupyter implements a two-process model, with  a kernel  and a client.\n",
    "-    The client is the interface  offering  the user  the ability  to send code to kernel\n",
    "-    The kernel  executes  the code and returns the result to the client  for display \n",
    "-    The client  is the browser when using a Jupyter notebook\n",
    "-    Jupyter notebooks  is used  to represent  code,  metadata,contents and outputs \n",
    "-    It has a flexible  interface  that extends  beyond code and output\n",
    "-    User -- > Browser -- > Notebook server -- > NoteBook File\n",
    "-    Notebook File --> Preprocessor --> Exporter --> Exported File --> Postprocessors"
   ]
  },
  {
   "cell_type": "code",
   "execution_count": null,
   "metadata": {},
   "outputs": [],
   "source": []
  }
 ],
 "metadata": {
  "kernelspec": {
   "display_name": "Python 3",
   "language": "python",
   "name": "python3"
  },
  "language_info": {
   "codemirror_mode": {
    "name": "ipython",
    "version": 3
   },
   "file_extension": ".py",
   "mimetype": "text/x-python",
   "name": "python",
   "nbconvert_exporter": "python",
   "pygments_lexer": "ipython3",
   "version": "3.11.1"
  },
  "orig_nbformat": 4,
  "vscode": {
   "interpreter": {
    "hash": "71bc2aa4f9a6092b97abbd760aa449ed303b5cd54add5a178de07d6efb851395"
   }
  }
 },
 "nbformat": 4,
 "nbformat_minor": 2
}
