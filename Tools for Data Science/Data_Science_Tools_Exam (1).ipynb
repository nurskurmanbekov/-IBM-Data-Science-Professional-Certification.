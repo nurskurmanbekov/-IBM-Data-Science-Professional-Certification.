{
 "cells": [
  {
   "cell_type": "markdown",
   "id": "2951d047",
   "metadata": {},
   "source": [
    "# My Data Science Notebook\n"
   ]
  },
  {
   "cell_type": "markdown",
   "id": "5f3c2e16",
   "metadata": {},
   "source": [
    "## Introduction\n",
    "\n",
    "Welcome to my data science notebook! In this notebook, I will explore various data science concepts, languages, and tools. Let's dive in!\n"
   ]
  },
  {
   "cell_type": "markdown",
   "id": "c0ec67d1",
   "metadata": {},
   "source": [
    "## Data Science Languages\n",
    "\n",
    "- Python\n",
    "- R\n",
    "- Julia\n",
    "- SQL\n"
   ]
  },
  {
   "cell_type": "markdown",
   "id": "b8dc0496",
   "metadata": {},
   "source": [
    "## Data Science Tools\n",
    "\n",
    "| Category       | Tools           |\n",
    "|----------------|-----------------|\n",
    "| Data Cleaning  | OpenRefine, Trifacta, pandas      |\n",
    "| Data Analysis  | R, Python, SQL  |\n",
    "| Visualization  | Matplotlib, ggplot, Tableau      |\n",
    "| Machine Learning | scikit-learn, TensorFlow, Keras |\n"
   ]
  },
  {
   "cell_type": "markdown",
   "id": "89e149b9",
   "metadata": {},
   "source": [
    "## Arithmetic Expression Examples\n",
    "\n",
    "In this section, we will explore some basic arithmetic expressions using Python.\n"
   ]
  },
  {
   "cell_type": "code",
   "execution_count": 2,
   "id": "035a253a",
   "metadata": {},
   "outputs": [
    {
     "name": "stdout",
     "output_type": "stream",
     "text": [
      "Multiplication Result: 50\n",
      "Addition Result: 15\n"
     ]
    }
   ],
   "source": [
    "# Multiply and add numbers\n",
    "num1 = 5\n",
    "num2 = 10\n",
    "\n",
    "# Multiply the numbers\n",
    "result_multiply = num1 * num2\n",
    "print(\"Multiplication Result:\", result_multiply)\n",
    "\n",
    "# Add the numbers\n",
    "result_add = num1 + num2\n",
    "print(\"Addition Result:\", result_add)\n"
   ]
  },
  {
   "cell_type": "code",
   "execution_count": 3,
   "id": "e26575bc",
   "metadata": {},
   "outputs": [
    {
     "name": "stdout",
     "output_type": "stream",
     "text": [
      "Minutes: 120\n",
      "Hours: 2.0\n"
     ]
    }
   ],
   "source": [
    "# Convert minutes to hours\n",
    "minutes = 120\n",
    "hours = minutes / 60\n",
    "\n",
    "print(\"Minutes:\", minutes)\n",
    "print(\"Hours:\", hours)\n"
   ]
  },
  {
   "cell_type": "markdown",
   "id": "b746e12a",
   "metadata": {},
   "source": [
    "## Objectives\n",
    "\n",
    "- Explore data science languages and libraries\n",
    "- Understand basic arithmetic expressions\n",
    "- Perform calculations and conversions\n",
    "- Gain familiarity with Jupyter Notebook\n"
   ]
  },
  {
   "cell_type": "markdown",
   "id": "7ef766c2",
   "metadata": {},
   "source": [
    "## Author\n",
    "\n",
    "John Doe\n"
   ]
  }
 ],
 "metadata": {
  "kernelspec": {
   "display_name": "Python 3 (ipykernel)",
   "language": "python",
   "name": "python3"
  },
  "language_info": {
   "codemirror_mode": {
    "name": "ipython",
    "version": 3
   },
   "file_extension": ".py",
   "mimetype": "text/x-python",
   "name": "python",
   "nbconvert_exporter": "python",
   "pygments_lexer": "ipython3",
   "version": "3.10.9"
  }
 },
 "nbformat": 4,
 "nbformat_minor": 5
}
